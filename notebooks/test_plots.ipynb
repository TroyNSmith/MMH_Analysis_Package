{
 "cells": [
  {
   "cell_type": "code",
   "execution_count": null,
   "id": "70711bcb",
   "metadata": {},
   "outputs": [
    {
     "ename": "",
     "evalue": "",
     "output_type": "error",
     "traceback": [
      "\u001b[1;31mRunning cells with 'default (Python 3.13.5)' requires the ipykernel package.\n",
      "\u001b[1;31mInstall 'ipykernel' into the Python environment. \n",
      "\u001b[1;31mCommand: '/home/tns97255/Coding/MMH_Analysis_Package/.pixi/envs/default/bin/python -m pip install ipykernel -U --force-reinstall'"
     ]
    }
   ],
   "source": [
    "from pathlib import Path\n",
    "\n",
    "from src.traj import rdf\n",
    "from src.util.traj import reader, selections\n",
    "\n",
    "DATA_DIR = Path(\"tests/adk_oplsaa\")\n",
    "GRO_FILE = DATA_DIR / \"adk_oplsaa.gro\"\n",
    "XTC_FILE = DATA_DIR / \"adk_oplsaa.xtc\"\n",
    "\n",
    "Group1 = 'Type N'\n",
    "Group2 = 'Type O'\n",
    "\n",
    "Universe = reader.load_traj(XTC_FILE, GRO_FILE)\n",
    "\n",
    "Pairs = selections.select_pairs(Universe, Group1, Group2)\n",
    "R, G_R = rdf.rdf(Universe, Pairs)\n",
    "\n",
    "print(R, G_R)"
   ]
  }
 ],
 "metadata": {
  "kernelspec": {
   "display_name": "default",
   "language": "python",
   "name": "python3"
  },
  "language_info": {
   "name": "python",
   "version": "3.13.5"
  }
 },
 "nbformat": 4,
 "nbformat_minor": 5
}
